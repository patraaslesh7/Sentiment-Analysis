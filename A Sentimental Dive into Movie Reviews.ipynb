{
 "cells": [
  {
   "cell_type": "code",
   "execution_count": 3,
   "id": "00346e72",
   "metadata": {},
   "outputs": [
    {
     "name": "stdout",
     "output_type": "stream",
     "text": [
      "Requirement already satisfied: textblob==0.17.1 in c:\\users\\kiit\\anaconda3\\lib\\site-packages (0.17.1)\n",
      "Requirement already satisfied: nltk>=3.1 in c:\\users\\kiit\\anaconda3\\lib\\site-packages (from textblob==0.17.1) (3.9.1)\n",
      "Requirement already satisfied: click in c:\\users\\kiit\\anaconda3\\lib\\site-packages (from nltk>=3.1->textblob==0.17.1) (8.1.7)\n",
      "Requirement already satisfied: joblib in c:\\users\\kiit\\anaconda3\\lib\\site-packages (from nltk>=3.1->textblob==0.17.1) (1.4.2)\n",
      "Requirement already satisfied: regex>=2021.8.3 in c:\\users\\kiit\\anaconda3\\lib\\site-packages (from nltk>=3.1->textblob==0.17.1) (2024.9.11)\n",
      "Requirement already satisfied: tqdm in c:\\users\\kiit\\anaconda3\\lib\\site-packages (from nltk>=3.1->textblob==0.17.1) (4.66.5)\n",
      "Requirement already satisfied: colorama in c:\\users\\kiit\\anaconda3\\lib\\site-packages (from click->nltk>=3.1->textblob==0.17.1) (0.4.6)\n"
     ]
    }
   ],
   "source": [
    "!pip install textblob==0.17.1"
   ]
  },
  {
   "cell_type": "code",
   "execution_count": 5,
   "id": "f3cf8741",
   "metadata": {},
   "outputs": [],
   "source": [
    "# check the sentiment of the given statement"
   ]
  },
  {
   "cell_type": "code",
   "execution_count": 7,
   "id": "dadd2250",
   "metadata": {
    "id": "dadd2250",
    "outputId": "65a9964c-8dfe-4ed7-f316-ef11d7d8128d"
   },
   "outputs": [
    {
     "name": "stdout",
     "output_type": "stream",
     "text": [
      "-0.6999999999999998\n"
     ]
    }
   ],
   "source": [
    "# understand the sentiment of the given sentence using TextBlob\n",
    "text = \"The movie was too bad\"\n",
    "\n",
    "#import TextBlob package for performing Sentiment Analysis\n",
    "from textblob import TextBlob \n",
    "# provides text mining, text analysis and text processing modules\n",
    "\n",
    "\n",
    "# initialise it with an object\n",
    "analysis = TextBlob(text)  \n",
    "\n",
    "# perform sentiment analysis\n",
    "print(analysis.sentiment.polarity)\n",
    "\n"
   ]
  },
  {
   "cell_type": "markdown",
   "id": "a2ed7750",
   "metadata": {},
   "source": [
    "#### Polarity refers to sentiment expressed within the text.\n",
    "\n",
    "Polarity is often measured on a scale from -1 to 1, where:\n",
    "\n",
    "- Polarity close to 1 indicates positive sentiment.\n",
    "- Polarity close to -1 indicates negative sentiment.\n",
    "- Polarity around 0 indicates neutral sentiment."
   ]
  },
  {
   "cell_type": "code",
   "execution_count": 10,
   "id": "a92734a3",
   "metadata": {},
   "outputs": [
    {
     "name": "stdout",
     "output_type": "stream",
     "text": [
      "Negative\n"
     ]
    }
   ],
   "source": [
    "# get the sentiment\n",
    "if analysis.sentiment.polarity > 0:\n",
    "    print('Positive')\n",
    "elif analysis.sentiment.polarity <0:\n",
    "    print ('Negative')\n",
    "else:\n",
    "    print ('Neutral')"
   ]
  },
  {
   "cell_type": "markdown",
   "id": "09377f18",
   "metadata": {},
   "source": [
    "### Sentiment Analysis on Movie Reviews"
   ]
  },
  {
   "cell_type": "code",
   "execution_count": 13,
   "id": "b9026156",
   "metadata": {
    "id": "b9026156"
   },
   "outputs": [],
   "source": [
    "import random\n",
    "from textblob import TextBlob \n",
    "from IPython.display import clear_output # Clear the output in Jupyter Notebook\n",
    "from movie_reviews import reviews"
   ]
  },
  {
   "cell_type": "code",
   "execution_count": 15,
   "id": "8e125f67",
   "metadata": {},
   "outputs": [
    {
     "data": {
      "text/plain": [
       "dict"
      ]
     },
     "execution_count": 15,
     "metadata": {},
     "output_type": "execute_result"
    }
   ],
   "source": [
    "# 'reviews' is a dictionary with movie names as 'keys' and their reviews as 'values'\n",
    "type(reviews)"
   ]
  },
  {
   "cell_type": "code",
   "execution_count": 17,
   "id": "c6cebb67",
   "metadata": {},
   "outputs": [
    {
     "data": {
      "text/plain": [
       "10"
      ]
     },
     "execution_count": 17,
     "metadata": {},
     "output_type": "execute_result"
    }
   ],
   "source": [
    "# total no. of movies\n",
    "len(reviews)"
   ]
  },
  {
   "cell_type": "code",
   "execution_count": 19,
   "id": "9adcd000",
   "metadata": {},
   "outputs": [
    {
     "data": {
      "text/plain": [
       "dict_keys(['Endgame', 'Forest_gump', 'Johnwick', 'Joker', 'Morbius', 'Pulpfiction', 'Spiderman', 'Avengers', 'Darkknight', 'Ragnarok'])"
      ]
     },
     "execution_count": 19,
     "metadata": {},
     "output_type": "execute_result"
    }
   ],
   "source": [
    "# name of the movies\n",
    "reviews.keys()\n",
    "\n",
    "# for all these movies, we have different reviews on which we are going to perform sentiment analysis"
   ]
  },
  {
   "cell_type": "code",
   "execution_count": 38,
   "id": "cdfcda10-8101-4584-ba35-f8d8af41c7fa",
   "metadata": {},
   "outputs": [
    {
     "name": "stdout",
     "output_type": "stream",
     "text": [
      "['Endgame', 'Forest_gump', 'Johnwick', 'Joker', 'Morbius', 'Pulpfiction', 'Spiderman', 'Avengers', 'Darkknight', 'Ragnarok']\n"
     ]
    }
   ],
   "source": [
    "print(list(reviews.keys()))"
   ]
  },
  {
   "cell_type": "code",
   "execution_count": 21,
   "id": "6e658e93",
   "metadata": {},
   "outputs": [
    {
     "name": "stdout",
     "output_type": "stream",
     "text": [
      "No. of reviews for 'Endgame': 9514\n",
      "No. of reviews for 'Forest_gump': 2961\n",
      "No. of reviews for 'Johnwick': 2416\n",
      "No. of reviews for 'Joker': 11357\n",
      "No. of reviews for 'Morbius': 1910\n",
      "No. of reviews for 'Pulpfiction': 3475\n",
      "No. of reviews for 'Spiderman': 6040\n",
      "No. of reviews for 'Avengers': 2081\n",
      "No. of reviews for 'Darkknight': 5445\n",
      "No. of reviews for 'Ragnarok': 1864\n"
     ]
    }
   ],
   "source": [
    "# the number of reviews we have for each movie:\n",
    "for key, value in reviews.items():\n",
    "    print(f\"No. of reviews for '{key}': {len(value)}\")"
   ]
  },
  {
   "cell_type": "code",
   "execution_count": 23,
   "id": "431d6647",
   "metadata": {},
   "outputs": [
    {
     "data": {
      "text/plain": [
       "[\"Continuity? 350M budget and no one looking over the continuity? Hair styles, braided beard..unbraided...braided again? You need special equipment and suits to time travel, but not the bad guys who follow? No one traveling through time ages except Captain America??? SO many dragged out scenes with 'on the nose' dialog. They only made it 3 hours long to give the impression it was 'epic' when it wasn't and isn't. Making Thor a laughing bafoon who gives up being king so he can continue being fat and lazy? If you can't kill your superheroes, turn them into rejects. They'll probably reboot all the characters like they did with Spiderman... again...and again...and again.\"]"
      ]
     },
     "execution_count": 23,
     "metadata": {},
     "output_type": "execute_result"
    }
   ],
   "source": [
    "# Third review of first movie\n",
    "list(reviews.items())[0][1][2]"
   ]
  },
  {
   "cell_type": "code",
   "execution_count": 86,
   "id": "7547dd2a-7d56-4f60-a840-8be911b37f27",
   "metadata": {
    "collapsed": true,
    "jupyter": {
     "outputs_hidden": true
    },
    "scrolled": true
   },
   "outputs": [
    {
     "name": "stdout",
     "output_type": "stream",
     "text": [
      "[[\"Only a month or so back I was talking to a friend about how much I hate it when serious movies use time travel to get their characters out of problems. I have no problem with movies like 'Back to the Future' or 'Hot Tub Time Machine' that are both comedy based and use the time machine as a plot for the movie as opposed to a solution for characters problems. When a serious movie uses it though it as lazy as writing as dream sequence in my opinion.At the end of the day though that just underlines the problem with these movies. The heroes are far too powerful. Whatever power they need they simply possess conveniently. Heck, 'Dr Strange' can even see into the future to know exactly what to do to make sure everything turns out alright. If that isn't the stupidest thing I've ever seen in a movie I don't know what is.I felt like the movie went very much as expected as well. Sure some characters die, however they were pretty much telegraphed to do so long before the movie came out. There also seemed to be a lack of conflict as key moments. A lot of things went far too smoothly for my liking in terms of the plan. Finally, the ending with 'Iron Man' simply pulling the glove off 'Thanos' - what the hell was that? Was that supposed to be clever writing? 'Thanos' just standing there for an eternity doing nothing waiting for someone to stop him?A lot of the jokes failed to land too. This was a surprisingly unfunny movie. In a 3 hour movie I got maybe 3 light chuckles out of the film. Every joke just felt so forced and some of the characters who don't have a comedy background delivered them very poorly. 'Avengers: Endgame' is three hours of my life I would like back.\"], [\"Continuity? 350M budget and no one looking over the continuity? Hair styles, braided beard..unbraided...braided again? You need special equipment and suits to time travel, but not the bad guys who follow? No one traveling through time ages except Captain America??? SO many dragged out scenes with 'on the nose' dialog. They only made it 3 hours long to give the impression it was 'epic' when it wasn't and isn't. Making Thor a laughing bafoon who gives up being king so he can continue being fat and lazy? If you can't kill your superheroes, turn them into rejects. They'll probably reboot all the characters like they did with Spiderman... again...and again...and again.\"]]\n"
     ]
    }
   ],
   "source": [
    "print(reviews[\"Endgame\"][1:3])  #2nd and 3rd review of moview endgame"
   ]
  },
  {
   "cell_type": "code",
   "execution_count": 126,
   "id": "974afcab-0d7e-4c35-a0b2-32c65b5052d2",
   "metadata": {
    "collapsed": true,
    "jupyter": {
     "outputs_hidden": true
    },
    "scrolled": true
   },
   "outputs": [
    {
     "name": "stdout",
     "output_type": "stream",
     "text": [
      "['Right, well I am by no means a fan of superhero movies, but I will watch them when given the chance. Why? Solely for entertainment purposes, because Marvel Studios does make rather impressive movies, now don\\'t they? Indeed. And that is also why I opted to sit down and watch the 2021 movie \"Spider-Man: No Way Home\" here in 2022.Actually, my family went to watch \"Spider-Man: No Way Home\" back in 2021 when it was out in the cinema, but I didn\\'t go, as I don\\'t think superhero movies are worth the ticket admission for a cinema. So instead, I opted to watch it when it became readily accessible at the comforts of my home.Writers Chris McKenna and Erik Sommers actually put together a wholesome enough storyline here for this movie, and sure it was watchable and enjoyable. Outstanding or memorable? No, not so much. But then again, I am not overly keen on the whole superhero genre. But \"Spider-Man: No Way Home\" did provide me with entertainment for the 148 minutes that the movie ran for.And it was actually fun enough to watch the various Spider-Men come together on the screen and fight the villains from previous movies all over again. Nostalgia? Perhaps. But at the same time, sort of lazy writing when you think about it.Visually then \"Spider-Man: No Way Home\" was phenomenal. But then again, that is what Marvel Studios excel at, isn\\'t it?\"Spider-Man: No Way Home\" certainly has a impressive cast list, with a lot of big names. I mean, you have Tom Holland, Andrew Garfield and Tobey Maguire as the Spider-Man, and then you have Jamie Foxx, Willem Dafoe, Alfred Molina, Rhys Ifans and Thomas Haden Church return to reprise their former villainous roles. And the movie also have the likes of talents such as J. K. Simmons, Marisa Tomei, Jon Favreau and such on the cast list as well.It was nice, though, to see that the writers were taking the many previous movies in the franchise with a grain of salt some times throughout the course of the movie, with the puns and snazzy dialogue hinting at and referencing previous movies.\"Spider-Man: No Way Home\" definitely is a pleasing movie for the fans of superhero movies and of \"Spider-Man\" in general.My rating of \"Spider-Man: No Way Home\" lands on a six out of ten stars.']\n"
     ]
    }
   ],
   "source": [
    "print(reviews[\"Spiderman\"][5])  #6th review of moview Spiderman"
   ]
  },
  {
   "cell_type": "code",
   "execution_count": 130,
   "id": "f0a04a97-5a35-4a44-a986-fa7c75c02cde",
   "metadata": {
    "collapsed": true,
    "jupyter": {
     "outputs_hidden": true
    },
    "scrolled": true
   },
   "outputs": [
    {
     "data": {
      "text/plain": [
       "['Right, well I am by no means a fan of superhero movies, but I will watch them when given the chance. Why? Solely for entertainment purposes, because Marvel Studios does make rather impressive movies, now don\\'t they? Indeed. And that is also why I opted to sit down and watch the 2021 movie \"Spider-Man: No Way Home\" here in 2022.Actually, my family went to watch \"Spider-Man: No Way Home\" back in 2021 when it was out in the cinema, but I didn\\'t go, as I don\\'t think superhero movies are worth the ticket admission for a cinema. So instead, I opted to watch it when it became readily accessible at the comforts of my home.Writers Chris McKenna and Erik Sommers actually put together a wholesome enough storyline here for this movie, and sure it was watchable and enjoyable. Outstanding or memorable? No, not so much. But then again, I am not overly keen on the whole superhero genre. But \"Spider-Man: No Way Home\" did provide me with entertainment for the 148 minutes that the movie ran for.And it was actually fun enough to watch the various Spider-Men come together on the screen and fight the villains from previous movies all over again. Nostalgia? Perhaps. But at the same time, sort of lazy writing when you think about it.Visually then \"Spider-Man: No Way Home\" was phenomenal. But then again, that is what Marvel Studios excel at, isn\\'t it?\"Spider-Man: No Way Home\" certainly has a impressive cast list, with a lot of big names. I mean, you have Tom Holland, Andrew Garfield and Tobey Maguire as the Spider-Man, and then you have Jamie Foxx, Willem Dafoe, Alfred Molina, Rhys Ifans and Thomas Haden Church return to reprise their former villainous roles. And the movie also have the likes of talents such as J. K. Simmons, Marisa Tomei, Jon Favreau and such on the cast list as well.It was nice, though, to see that the writers were taking the many previous movies in the franchise with a grain of salt some times throughout the course of the movie, with the puns and snazzy dialogue hinting at and referencing previous movies.\"Spider-Man: No Way Home\" definitely is a pleasing movie for the fans of superhero movies and of \"Spider-Man\" in general.My rating of \"Spider-Man: No Way Home\" lands on a six out of ten stars.']"
      ]
     },
     "execution_count": 130,
     "metadata": {},
     "output_type": "execute_result"
    }
   ],
   "source": [
    "# Sixth review of seventh movie\n",
    "list(reviews.items())[6][1][5]"
   ]
  },
  {
   "cell_type": "markdown",
   "id": "c0e55858",
   "metadata": {},
   "source": [
    "### Perform sentiment analysis"
   ]
  },
  {
   "cell_type": "code",
   "execution_count": 26,
   "id": "653a64ce",
   "metadata": {
    "id": "653a64ce"
   },
   "outputs": [],
   "source": [
    "def get_sentiment(rev):\n",
    "    \"\"\"Function which return the sentiment of the passed review as positive, negative or Neutral\"\"\"\n",
    "    analysis = TextBlob(rev)\n",
    "    if analysis.sentiment.polarity > 0:\n",
    "        return 'positive'\n",
    "    elif analysis.sentiment.polarity <0:\n",
    "        return 'negative'\n",
    "    else:\n",
    "        return 'neutral'"
   ]
  },
  {
   "cell_type": "code",
   "execution_count": 28,
   "id": "0ca73265",
   "metadata": {
    "id": "0ca73265"
   },
   "outputs": [],
   "source": [
    "def get_reviews(num_of_review,movie_name):\n",
    "    \"\"\"Processing of the review and returns a list, that consist of multiple dictionary with their respective text & sentiment\"\"\"\n",
    "   \n",
    "    # Selection of Random reviews\n",
    "    selected_reviews = [random.choice(reviews[movie_name]) for _ in range(num_of_review)] # list of randomly selected reviews\n",
    "    \n",
    "    # view first 2 reviews\n",
    "    print(\"First two reviews of the movie: \\n\")\n",
    "    print(selected_reviews[0],\"\\n\")\n",
    "    print(selected_reviews[1],\"\\n\")\n",
    "    \n",
    "    \n",
    "    final_processed_review = []\n",
    "    for inner_list in selected_reviews:\n",
    "        # Empty dictionary to store  the text of the review and its corresponding sentiment.\n",
    "        parsed_review = {}  \n",
    "        # saving text of the reviews\n",
    "        parsed_review['text'] = inner_list[0]\n",
    "        # saving sentiment of the reviews by passing the review to get_sentiment function\n",
    "        parsed_review['sentiment'] = get_sentiment(inner_list[0])\n",
    "        final_processed_review.append(parsed_review)\n",
    "    return final_processed_review\n",
    "\n",
    "# It returns a list of dictionaries, where each dictionary represents \n",
    "# a processed review with its text and sentiment."
   ]
  },
  {
   "cell_type": "code",
   "execution_count": 132,
   "id": "72bd4a96",
   "metadata": {},
   "outputs": [
    {
     "name": "stdout",
     "output_type": "stream",
     "text": [
      "First two reviews of the movie: \n",
      "\n",
      "['Fantastic overall, interesting and entertaining contents.'] \n",
      "\n",
      "[\"Oh my God I can't imagine how beautiful of this week how perfect this movie is the best movie Ever.\"] \n",
      "\n"
     ]
    },
    {
     "data": {
      "text/plain": [
       "[{'text': 'Fantastic overall, interesting and entertaining contents.',\n",
       "  'sentiment': 'positive'},\n",
       " {'text': \"Oh my God I can't imagine how beautiful of this week how perfect this movie is the best movie Ever.\",\n",
       "  'sentiment': 'positive'},\n",
       " {'text': 'There is one thing \"positively\" to be said about this movie, it is that Phoenix is a great actor. And that\\'s all. The movie is a pure commercial for the use of violence. It is disgusting, but at the same it shows us what America is all about. Gun violence from the right, protest violence from the left, America is going down and Hollywood is leading. Before I walked out of this movie half way, already over 20 people left',\n",
       "  'sentiment': 'positive'},\n",
       " {'text': 'What a movie...think Batman style from a villain point of view? Epic battles and super style fighting? Think again...(or be disappointed)\\nA dark movie about a guy with mental problems slowly loosing it and starting to become the iconic villain. Not planned or on purpose, just by being him, society and insanity.\\nThe acting is great, not only by the main actors, but also the supporting characters. Filmed in a style representing the era on every point taken.\\nThe movie starts slow, it took some time to get on speed. But when it does, it sucks you right in....\\nIntense acting, some dark comedy relief and raw violence. Nice plot turns and build up. Surprises all along..',\n",
       "  'sentiment': 'positive'}]"
      ]
     },
     "execution_count": 132,
     "metadata": {},
     "output_type": "execute_result"
    }
   ],
   "source": [
    "get_reviews(4,'Joker')"
   ]
  },
  {
   "cell_type": "code",
   "execution_count": 140,
   "id": "dcc9db4f-18d0-4869-848e-39688b870a08",
   "metadata": {},
   "outputs": [
    {
     "name": "stdout",
     "output_type": "stream",
     "text": [
      "First two reviews of the movie: \n",
      "\n",
      "[\"Absolutely loved this movie. I don't see how they could ever top this Spiderman movie! This had the right mix of everything. I dont want to spoil it for anyone. If you havent seen this movie go see it.\"] \n",
      "\n",
      "['Amazing movie, good effects, nice sound quality. Amazing! I rate it 10/10, brings good memories from a way back. Still need 150 characters...and i love my girlfriend.'] \n",
      "\n"
     ]
    },
    {
     "data": {
      "text/plain": [
       "[{'text': \"Absolutely loved this movie. I don't see how they could ever top this Spiderman movie! This had the right mix of everything. I dont want to spoil it for anyone. If you havent seen this movie go see it.\",\n",
       "  'sentiment': 'positive'},\n",
       " {'text': 'Amazing movie, good effects, nice sound quality. Amazing! I rate it 10/10, brings good memories from a way back. Still need 150 characters...and i love my girlfriend.',\n",
       "  'sentiment': 'positive'},\n",
       " {'text': 'The perfect marvel film. Struggling to put into words exactly how awesome this film was. Matching the MCU spider man with the villains of marvel past us just the most ridiculous idea on paper but this next phase of marvel films just pulls it right out of the bag.If you are are a marvel fan and are contemplating seeing it, just go see it. Now. Go. You will NOT be disappointed.',\n",
       "  'sentiment': 'positive'},\n",
       " {'text': 'I loved every second of the movie. It tied EVERYTHING together good, i allways said Garfield was the best Spiderman due to his ability to show emotion, but damn, do Holland give him a fight for his podium!This movie is by far the best Spiderman movie ever made!',\n",
       "  'sentiment': 'positive'},\n",
       " {'text': \"I'll just say this right off the cuff, just so everyone can get an idea where I stand on this film. This is so far my favorite MCU movie taking over the throne from Thor: Ragnarok. I loved almost everything about this movie. And a movie that shows exactly how to deliver on fan service, and not just service to the fans but using it to interweave into the story and overall film. I won't spoil anything, but I'm just going to say, it doesn't matter if your a fan of the Maguire Era, or the Garfield Era, you are going to have a good time. I'm more of a Maguire Era person who grew up loving those movies, yes even three, and I adored this and may even surpass the Maguire movies for me. Jon Watts does a fantastic job meshing all of the elements together, keeping it focused, creating good pace, not causing a convoluted mess like so many films that try to have so many elements meshed. I liked also that they kept the MCU humor to a minimum, which I don't mind the humor, it's just got to be used in the correct movie. This isn't the correct movie to have humor, and did a good job of keeping it minimal. Overall, I had a blast with this movie and deserves every eye that watches it. A true masterclass of a job by everyone involved. 10/10.\",\n",
       "  'sentiment': 'positive'},\n",
       " {'text': 'The best part in this is that all three Peter Parker will save from all the villans and best part is my first spider man hero to see in this movie thanks to Marvel.',\n",
       "  'sentiment': 'positive'},\n",
       " {'text': 'This movie was worse than homecoming- Peter acts like a 5 year old and is stupid all the time. Just because toby and andrew came back, doesnt excuse all of the plotholes and the bad storywritting. But fanboys/fangirls and hype is gonna push any movie thats mid at best. Peace.',\n",
       "  'sentiment': 'negative'}]"
      ]
     },
     "execution_count": 140,
     "metadata": {},
     "output_type": "execute_result"
    }
   ],
   "source": [
    "get_reviews(7,'Spiderman')"
   ]
  },
  {
   "cell_type": "code",
   "execution_count": 32,
   "id": "6ee59598",
   "metadata": {
    "id": "6ee59598"
   },
   "outputs": [],
   "source": [
    "def analyze():\n",
    "    print(list(reviews.keys())) # the movie names\n",
    "    movie_name = input(\"Select a movie you want to analyze: \")\n",
    "    if movie_name in list(reviews.keys()):\n",
    "        num_of_review = int(input(\"Enter the number of reviews you want to analyze: \"))\n",
    "        clear_output()  # Clear the output in Jupyter Notebook\n",
    "        review = get_reviews(num_of_review,movie_name)\n",
    "        # Picking positive reviews\n",
    "        positive_reviews=[]\n",
    "        for item in review:\n",
    "            if item[\"sentiment\"] == \"positive\":\n",
    "                positive_reviews.append(item)\n",
    "        # Percentage of positive reviews\n",
    "        print(\"Positive reviews percentage: {} %\".format(100*len(positive_reviews)/(num_of_review)))\n",
    "        # Picking negative reviews\n",
    "        negative_reviews = [rev1 for rev1 in review if rev1[\"sentiment\"] == \"negative\"]\n",
    "        # Percentage of negative reviews\n",
    "        print(\"Negative reviews percentage: {} %\".format(100*len(negative_reviews)/(num_of_review)))\n",
    "        # Percentage of neutral reviews\n",
    "        print(\"Neutral reviews percentage: {} %\".format(100*((num_of_review) - len(negative_reviews) - len(positive_reviews))/(num_of_review)))\n",
    "    else:\n",
    "        return \"Movie not found in the list\""
   ]
  },
  {
   "cell_type": "code",
   "execution_count": 34,
   "id": "907a922e",
   "metadata": {
    "id": "907a922e",
    "outputId": "ab624589-e166-48d0-ae9a-bcc82bd7a7f3"
   },
   "outputs": [
    {
     "name": "stdout",
     "output_type": "stream",
     "text": [
      "['Endgame', 'Forest_gump', 'Johnwick', 'Joker', 'Morbius', 'Pulpfiction', 'Spiderman', 'Avengers', 'Darkknight', 'Ragnarok']\n"
     ]
    },
    {
     "name": "stdin",
     "output_type": "stream",
     "text": [
      "Select a movie you want to analyze:  3\n"
     ]
    },
    {
     "data": {
      "text/plain": [
       "'Movie not found in the list'"
      ]
     },
     "execution_count": 34,
     "metadata": {},
     "output_type": "execute_result"
    }
   ],
   "source": [
    "analyze()"
   ]
  },
  {
   "cell_type": "code",
   "execution_count": 36,
   "id": "17d546ef",
   "metadata": {
    "id": "17d546ef"
   },
   "outputs": [
    {
     "name": "stdout",
     "output_type": "stream",
     "text": [
      "['Endgame', 'Forest_gump', 'Johnwick', 'Joker', 'Morbius', 'Pulpfiction', 'Spiderman', 'Avengers', 'Darkknight', 'Ragnarok']\n"
     ]
    }
   ],
   "source": [
    "print(list(reviews.keys()))"
   ]
  }
 ],
 "metadata": {
  "colab": {
   "provenance": []
  },
  "kernelspec": {
   "display_name": "Python [conda env:base] *",
   "language": "python",
   "name": "conda-base-py"
  },
  "language_info": {
   "codemirror_mode": {
    "name": "ipython",
    "version": 3
   },
   "file_extension": ".py",
   "mimetype": "text/x-python",
   "name": "python",
   "nbconvert_exporter": "python",
   "pygments_lexer": "ipython3",
   "version": "3.12.7"
  }
 },
 "nbformat": 4,
 "nbformat_minor": 5
}
